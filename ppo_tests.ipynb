{
 "cells": [
  {
   "cell_type": "code",
   "execution_count": 1,
   "metadata": {},
   "outputs": [],
   "source": [
    "import os\n",
    "try:\n",
    "    os.chdir('./Pump-RL')\n",
    "except FileNotFoundError:\n",
    "    print('No such file found maybe already changed dir. Current dir:', os.getcwd())"
   ]
  },
  {
   "cell_type": "code",
   "execution_count": 2,
   "metadata": {},
   "outputs": [
    {
     "name": "stdout",
     "output_type": "stream",
     "text": [
      "Using cuda device\n",
      "Wrapping the env with a `Monitor` wrapper\n",
      "Wrapping the env in a DummyVecEnv.\n",
      "Logging to logs/1670309125/DDPG Vanilla_0\n"
     ]
    },
    {
     "data": {
      "application/vnd.jupyter.widget-view+json": {
       "model_id": "fcd87e9b9fe54aedbbff777158eb0052",
       "version_major": 2,
       "version_minor": 0
      },
      "text/plain": [
       "Output()"
      ]
     },
     "metadata": {},
     "output_type": "display_data"
    },
    {
     "name": "stdout",
     "output_type": "stream",
     "text": [
      "---------------------------------\n",
      "| rollout/           |          |\n",
      "|    ep_len_mean     | 99       |\n",
      "|    ep_rew_mean     | -99      |\n",
      "| time/              |          |\n",
      "|    episodes        | 4        |\n",
      "|    fps             | 124      |\n",
      "|    time_elapsed    | 3        |\n",
      "|    total_timesteps | 396      |\n",
      "| train/             |          |\n",
      "|    actor_loss      | 1.72     |\n",
      "|    critic_loss     | 0.00694  |\n",
      "|    learning_rate   | 0.001    |\n",
      "|    n_updates       | 198      |\n",
      "---------------------------------\n"
     ]
    },
    {
     "name": "stdout",
     "output_type": "stream",
     "text": [
      "---------------------------------\n",
      "| rollout/           |          |\n",
      "|    ep_len_mean     | 99       |\n",
      "|    ep_rew_mean     | -99      |\n",
      "| time/              |          |\n",
      "|    episodes        | 8        |\n",
      "|    fps             | 89       |\n",
      "|    time_elapsed    | 8        |\n",
      "|    total_timesteps | 792      |\n",
      "| train/             |          |\n",
      "|    actor_loss      | 3.32     |\n",
      "|    critic_loss     | 0.0562   |\n",
      "|    learning_rate   | 0.001    |\n",
      "|    n_updates       | 594      |\n",
      "---------------------------------\n"
     ]
    },
    {
     "name": "stdout",
     "output_type": "stream",
     "text": [
      "---------------------------------\n",
      "| rollout/           |          |\n",
      "|    ep_len_mean     | 99       |\n",
      "|    ep_rew_mean     | -99      |\n",
      "| time/              |          |\n",
      "|    episodes        | 12       |\n",
      "|    fps             | 87       |\n",
      "|    time_elapsed    | 13       |\n",
      "|    total_timesteps | 1188     |\n",
      "| train/             |          |\n",
      "|    actor_loss      | 4.7      |\n",
      "|    critic_loss     | 0.162    |\n",
      "|    learning_rate   | 0.001    |\n",
      "|    n_updates       | 990      |\n",
      "---------------------------------\n"
     ]
    },
    {
     "name": "stdout",
     "output_type": "stream",
     "text": [
      "---------------------------------\n",
      "| rollout/           |          |\n",
      "|    ep_len_mean     | 92.9     |\n",
      "|    ep_rew_mean     | -92.8    |\n",
      "| time/              |          |\n",
      "|    episodes        | 16       |\n",
      "|    fps             | 88       |\n",
      "|    time_elapsed    | 16       |\n",
      "|    total_timesteps | 1486     |\n",
      "| train/             |          |\n",
      "|    actor_loss      | 5.68     |\n",
      "|    critic_loss     | 0.29     |\n",
      "|    learning_rate   | 0.001    |\n",
      "|    n_updates       | 1288     |\n",
      "---------------------------------\n"
     ]
    },
    {
     "name": "stdout",
     "output_type": "stream",
     "text": [
      "---------------------------------\n",
      "| rollout/           |          |\n",
      "|    ep_len_mean     | 94.1     |\n",
      "|    ep_rew_mean     | -94      |\n",
      "| time/              |          |\n",
      "|    episodes        | 20       |\n",
      "|    fps             | 82       |\n",
      "|    time_elapsed    | 22       |\n",
      "|    total_timesteps | 1882     |\n",
      "| train/             |          |\n",
      "|    actor_loss      | 7.16     |\n",
      "|    critic_loss     | 0.383    |\n",
      "|    learning_rate   | 0.001    |\n",
      "|    n_updates       | 1684     |\n",
      "---------------------------------\n"
     ]
    },
    {
     "name": "stdout",
     "output_type": "stream",
     "text": [
      "---------------------------------\n",
      "| rollout/           |          |\n",
      "|    ep_len_mean     | 94.9     |\n",
      "|    ep_rew_mean     | -94.9    |\n",
      "| time/              |          |\n",
      "|    episodes        | 24       |\n",
      "|    fps             | 85       |\n",
      "|    time_elapsed    | 26       |\n",
      "|    total_timesteps | 2278     |\n",
      "| train/             |          |\n",
      "|    actor_loss      | 8.54     |\n",
      "|    critic_loss     | 0.7      |\n",
      "|    learning_rate   | 0.001    |\n",
      "|    n_updates       | 2080     |\n",
      "---------------------------------\n"
     ]
    },
    {
     "name": "stdout",
     "output_type": "stream",
     "text": [
      "---------------------------------\n",
      "| rollout/           |          |\n",
      "|    ep_len_mean     | 95.5     |\n",
      "|    ep_rew_mean     | -95.5    |\n",
      "| time/              |          |\n",
      "|    episodes        | 28       |\n",
      "|    fps             | 81       |\n",
      "|    time_elapsed    | 32       |\n",
      "|    total_timesteps | 2674     |\n",
      "| train/             |          |\n",
      "|    actor_loss      | 9.93     |\n",
      "|    critic_loss     | 0.962    |\n",
      "|    learning_rate   | 0.001    |\n",
      "|    n_updates       | 2476     |\n",
      "---------------------------------\n"
     ]
    },
    {
     "name": "stdout",
     "output_type": "stream",
     "text": [
      "---------------------------------\n",
      "| rollout/           |          |\n",
      "|    ep_len_mean     | 95.9     |\n",
      "|    ep_rew_mean     | -95.9    |\n",
      "| time/              |          |\n",
      "|    episodes        | 32       |\n",
      "|    fps             | 82       |\n",
      "|    time_elapsed    | 37       |\n",
      "|    total_timesteps | 3070     |\n",
      "| train/             |          |\n",
      "|    actor_loss      | 11.3     |\n",
      "|    critic_loss     | 1.06     |\n",
      "|    learning_rate   | 0.001    |\n",
      "|    n_updates       | 2872     |\n",
      "---------------------------------\n"
     ]
    },
    {
     "name": "stdout",
     "output_type": "stream",
     "text": [
      "---------------------------------\n",
      "| rollout/           |          |\n",
      "|    ep_len_mean     | 96.3     |\n",
      "|    ep_rew_mean     | -96.2    |\n",
      "| time/              |          |\n",
      "|    episodes        | 36       |\n",
      "|    fps             | 82       |\n",
      "|    time_elapsed    | 42       |\n",
      "|    total_timesteps | 3466     |\n",
      "| train/             |          |\n",
      "|    actor_loss      | 12.4     |\n",
      "|    critic_loss     | 1.36     |\n",
      "|    learning_rate   | 0.001    |\n",
      "|    n_updates       | 3268     |\n",
      "---------------------------------\n"
     ]
    },
    {
     "name": "stdout",
     "output_type": "stream",
     "text": [
      "---------------------------------\n",
      "| rollout/           |          |\n",
      "|    ep_len_mean     | 96.5     |\n",
      "|    ep_rew_mean     | -96.5    |\n",
      "| time/              |          |\n",
      "|    episodes        | 40       |\n",
      "|    fps             | 81       |\n",
      "|    time_elapsed    | 47       |\n",
      "|    total_timesteps | 3862     |\n",
      "| train/             |          |\n",
      "|    actor_loss      | 13.6     |\n",
      "|    critic_loss     | 1.53     |\n",
      "|    learning_rate   | 0.001    |\n",
      "|    n_updates       | 3664     |\n",
      "---------------------------------\n"
     ]
    },
    {
     "name": "stdout",
     "output_type": "stream",
     "text": [
      "---------------------------------\n",
      "| rollout/           |          |\n",
      "|    ep_len_mean     | 96.8     |\n",
      "|    ep_rew_mean     | -96.8    |\n",
      "| time/              |          |\n",
      "|    episodes        | 44       |\n",
      "|    fps             | 81       |\n",
      "|    time_elapsed    | 52       |\n",
      "|    total_timesteps | 4258     |\n",
      "| train/             |          |\n",
      "|    actor_loss      | 14.7     |\n",
      "|    critic_loss     | 1.98     |\n",
      "|    learning_rate   | 0.001    |\n",
      "|    n_updates       | 4060     |\n",
      "---------------------------------\n"
     ]
    },
    {
     "name": "stdout",
     "output_type": "stream",
     "text": [
      "---------------------------------\n",
      "| rollout/           |          |\n",
      "|    ep_len_mean     | 97       |\n",
      "|    ep_rew_mean     | -96.9    |\n",
      "| time/              |          |\n",
      "|    episodes        | 48       |\n",
      "|    fps             | 80       |\n",
      "|    time_elapsed    | 57       |\n",
      "|    total_timesteps | 4654     |\n",
      "| train/             |          |\n",
      "|    actor_loss      | 15.8     |\n",
      "|    critic_loss     | 2.26     |\n",
      "|    learning_rate   | 0.001    |\n",
      "|    n_updates       | 4456     |\n",
      "---------------------------------\n"
     ]
    },
    {
     "name": "stdout",
     "output_type": "stream",
     "text": [
      "---------------------------------\n",
      "| rollout/           |          |\n",
      "|    ep_len_mean     | 95.3     |\n",
      "|    ep_rew_mean     | -95.3    |\n",
      "| time/              |          |\n",
      "|    episodes        | 52       |\n",
      "|    fps             | 81       |\n",
      "|    time_elapsed    | 60       |\n",
      "|    total_timesteps | 4956     |\n",
      "| train/             |          |\n",
      "|    actor_loss      | 16.6     |\n",
      "|    critic_loss     | 2.75     |\n",
      "|    learning_rate   | 0.001    |\n",
      "|    n_updates       | 4758     |\n",
      "---------------------------------\n"
     ]
    },
    {
     "name": "stdout",
     "output_type": "stream",
     "text": [
      "---------------------------------\n",
      "| rollout/           |          |\n",
      "|    ep_len_mean     | 92.1     |\n",
      "|    ep_rew_mean     | -92      |\n",
      "| time/              |          |\n",
      "|    episodes        | 56       |\n",
      "|    fps             | 80       |\n",
      "|    time_elapsed    | 64       |\n",
      "|    total_timesteps | 5157     |\n",
      "| train/             |          |\n",
      "|    actor_loss      | 17.3     |\n",
      "|    critic_loss     | 3.72     |\n",
      "|    learning_rate   | 0.001    |\n",
      "|    n_updates       | 5057     |\n",
      "---------------------------------\n"
     ]
    },
    {
     "name": "stdout",
     "output_type": "stream",
     "text": [
      "---------------------------------\n",
      "| rollout/           |          |\n",
      "|    ep_len_mean     | 92.5     |\n",
      "|    ep_rew_mean     | -92.5    |\n",
      "| time/              |          |\n",
      "|    episodes        | 60       |\n",
      "|    fps             | 80       |\n",
      "|    time_elapsed    | 68       |\n",
      "|    total_timesteps | 5553     |\n",
      "| train/             |          |\n",
      "|    actor_loss      | 18.1     |\n",
      "|    critic_loss     | 3.07     |\n",
      "|    learning_rate   | 0.001    |\n",
      "|    n_updates       | 5355     |\n",
      "---------------------------------\n"
     ]
    },
    {
     "name": "stdout",
     "output_type": "stream",
     "text": [
      "---------------------------------\n",
      "| rollout/           |          |\n",
      "|    ep_len_mean     | 93       |\n",
      "|    ep_rew_mean     | -92.9    |\n",
      "| time/              |          |\n",
      "|    episodes        | 64       |\n",
      "|    fps             | 81       |\n",
      "|    time_elapsed    | 72       |\n",
      "|    total_timesteps | 5949     |\n",
      "| train/             |          |\n",
      "|    actor_loss      | 19       |\n",
      "|    critic_loss     | 3.64     |\n",
      "|    learning_rate   | 0.001    |\n",
      "|    n_updates       | 5751     |\n",
      "---------------------------------\n"
     ]
    },
    {
     "name": "stdout",
     "output_type": "stream",
     "text": [
      "---------------------------------\n",
      "| rollout/           |          |\n",
      "|    ep_len_mean     | 93.3     |\n",
      "|    ep_rew_mean     | -93.2    |\n",
      "| time/              |          |\n",
      "|    episodes        | 68       |\n",
      "|    fps             | 81       |\n",
      "|    time_elapsed    | 78       |\n",
      "|    total_timesteps | 6345     |\n",
      "| train/             |          |\n",
      "|    actor_loss      | 19.9     |\n",
      "|    critic_loss     | 3.98     |\n",
      "|    learning_rate   | 0.001    |\n",
      "|    n_updates       | 6147     |\n",
      "---------------------------------\n"
     ]
    },
    {
     "name": "stdout",
     "output_type": "stream",
     "text": [
      "---------------------------------\n",
      "| rollout/           |          |\n",
      "|    ep_len_mean     | 93.6     |\n",
      "|    ep_rew_mean     | -93.6    |\n",
      "| time/              |          |\n",
      "|    episodes        | 72       |\n",
      "|    fps             | 81       |\n",
      "|    time_elapsed    | 83       |\n",
      "|    total_timesteps | 6741     |\n",
      "| train/             |          |\n",
      "|    actor_loss      | 20.9     |\n",
      "|    critic_loss     | 4.04     |\n",
      "|    learning_rate   | 0.001    |\n",
      "|    n_updates       | 6543     |\n",
      "---------------------------------\n"
     ]
    },
    {
     "name": "stdout",
     "output_type": "stream",
     "text": [
      "---------------------------------\n",
      "| rollout/           |          |\n",
      "|    ep_len_mean     | 93.9     |\n",
      "|    ep_rew_mean     | -93.9    |\n",
      "| time/              |          |\n",
      "|    episodes        | 76       |\n",
      "|    fps             | 81       |\n",
      "|    time_elapsed    | 87       |\n",
      "|    total_timesteps | 7137     |\n",
      "| train/             |          |\n",
      "|    actor_loss      | 22.8     |\n",
      "|    critic_loss     | 4.43     |\n",
      "|    learning_rate   | 0.001    |\n",
      "|    n_updates       | 6939     |\n",
      "---------------------------------\n"
     ]
    },
    {
     "name": "stdout",
     "output_type": "stream",
     "text": [
      "---------------------------------\n",
      "| rollout/           |          |\n",
      "|    ep_len_mean     | 94.2     |\n",
      "|    ep_rew_mean     | -94.1    |\n",
      "| time/              |          |\n",
      "|    episodes        | 80       |\n",
      "|    fps             | 80       |\n",
      "|    time_elapsed    | 93       |\n",
      "|    total_timesteps | 7533     |\n",
      "| train/             |          |\n",
      "|    actor_loss      | 23.5     |\n",
      "|    critic_loss     | 5.69     |\n",
      "|    learning_rate   | 0.001    |\n",
      "|    n_updates       | 7335     |\n",
      "---------------------------------\n"
     ]
    },
    {
     "name": "stdout",
     "output_type": "stream",
     "text": [
      "---------------------------------\n",
      "| rollout/           |          |\n",
      "|    ep_len_mean     | 94.4     |\n",
      "|    ep_rew_mean     | -94.3    |\n",
      "| time/              |          |\n",
      "|    episodes        | 84       |\n",
      "|    fps             | 81       |\n",
      "|    time_elapsed    | 96       |\n",
      "|    total_timesteps | 7929     |\n",
      "| train/             |          |\n",
      "|    actor_loss      | 23.5     |\n",
      "|    critic_loss     | 6.36     |\n",
      "|    learning_rate   | 0.001    |\n",
      "|    n_updates       | 7731     |\n",
      "---------------------------------\n"
     ]
    },
    {
     "name": "stdout",
     "output_type": "stream",
     "text": [
      "---------------------------------\n",
      "| rollout/           |          |\n",
      "|    ep_len_mean     | 94.6     |\n",
      "|    ep_rew_mean     | -94.6    |\n",
      "| time/              |          |\n",
      "|    episodes        | 88       |\n",
      "|    fps             | 80       |\n",
      "|    time_elapsed    | 102      |\n",
      "|    total_timesteps | 8325     |\n",
      "| train/             |          |\n",
      "|    actor_loss      | 24.3     |\n",
      "|    critic_loss     | 5.31     |\n",
      "|    learning_rate   | 0.001    |\n",
      "|    n_updates       | 8127     |\n",
      "---------------------------------\n"
     ]
    },
    {
     "name": "stdout",
     "output_type": "stream",
     "text": [
      "---------------------------------\n",
      "| rollout/           |          |\n",
      "|    ep_len_mean     | 94.8     |\n",
      "|    ep_rew_mean     | -94.8    |\n",
      "| time/              |          |\n",
      "|    episodes        | 92       |\n",
      "|    fps             | 81       |\n",
      "|    time_elapsed    | 107      |\n",
      "|    total_timesteps | 8721     |\n",
      "| train/             |          |\n",
      "|    actor_loss      | 24.8     |\n",
      "|    critic_loss     | 5.91     |\n",
      "|    learning_rate   | 0.001    |\n",
      "|    n_updates       | 8523     |\n",
      "---------------------------------\n"
     ]
    },
    {
     "name": "stdout",
     "output_type": "stream",
     "text": [
      "---------------------------------\n",
      "| rollout/           |          |\n",
      "|    ep_len_mean     | 95       |\n",
      "|    ep_rew_mean     | -94.9    |\n",
      "| time/              |          |\n",
      "|    episodes        | 96       |\n",
      "|    fps             | 81       |\n",
      "|    time_elapsed    | 112      |\n",
      "|    total_timesteps | 9117     |\n",
      "| train/             |          |\n",
      "|    actor_loss      | 25.4     |\n",
      "|    critic_loss     | 6.47     |\n",
      "|    learning_rate   | 0.001    |\n",
      "|    n_updates       | 8919     |\n",
      "---------------------------------\n"
     ]
    },
    {
     "name": "stdout",
     "output_type": "stream",
     "text": [
      "---------------------------------\n",
      "| rollout/           |          |\n",
      "|    ep_len_mean     | 95.1     |\n",
      "|    ep_rew_mean     | -95.1    |\n",
      "| time/              |          |\n",
      "|    episodes        | 100      |\n",
      "|    fps             | 80       |\n",
      "|    time_elapsed    | 117      |\n",
      "|    total_timesteps | 9513     |\n",
      "| train/             |          |\n",
      "|    actor_loss      | 26       |\n",
      "|    critic_loss     | 7.1      |\n",
      "|    learning_rate   | 0.001    |\n",
      "|    n_updates       | 9315     |\n",
      "---------------------------------\n"
     ]
    },
    {
     "name": "stdout",
     "output_type": "stream",
     "text": [
      "---------------------------------\n",
      "| rollout/           |          |\n",
      "|    ep_len_mean     | 95.1     |\n",
      "|    ep_rew_mean     | -95.1    |\n",
      "| time/              |          |\n",
      "|    episodes        | 104      |\n",
      "|    fps             | 81       |\n",
      "|    time_elapsed    | 121      |\n",
      "|    total_timesteps | 9909     |\n",
      "| train/             |          |\n",
      "|    actor_loss      | 26.6     |\n",
      "|    critic_loss     | 7.45     |\n",
      "|    learning_rate   | 0.001    |\n",
      "|    n_updates       | 9711     |\n",
      "---------------------------------\n"
     ]
    },
    {
     "data": {
      "text/html": [
       "<pre style=\"white-space:pre;overflow-x:auto;line-height:normal;font-family:Menlo,'DejaVu Sans Mono',consolas,'Courier New',monospace\"></pre>\n"
      ],
      "text/plain": []
     },
     "metadata": {},
     "output_type": "display_data"
    },
    {
     "data": {
      "text/html": [
       "<pre style=\"white-space:pre;overflow-x:auto;line-height:normal;font-family:Menlo,'DejaVu Sans Mono',consolas,'Courier New',monospace\">\n",
       "</pre>\n"
      ],
      "text/plain": [
       "\n"
      ]
     },
     "metadata": {},
     "output_type": "display_data"
    },
    {
     "name": "stdout",
     "output_type": "stream",
     "text": [
      "Logging to logs/1670309125/DDPG Vanilla_0\n"
     ]
    },
    {
     "data": {
      "application/vnd.jupyter.widget-view+json": {
       "model_id": "a00ec2d281344fd2a3035770ecd021be",
       "version_major": 2,
       "version_minor": 0
      },
      "text/plain": [
       "Output()"
      ]
     },
     "metadata": {},
     "output_type": "display_data"
    },
    {
     "name": "stdout",
     "output_type": "stream",
     "text": [
      "---------------------------------\n",
      "| rollout/           |          |\n",
      "|    ep_len_mean     | 95.1     |\n",
      "|    ep_rew_mean     | -95.1    |\n",
      "| time/              |          |\n",
      "|    episodes        | 108      |\n",
      "|    fps             | 92       |\n",
      "|    time_elapsed    | 3        |\n",
      "|    total_timesteps | 10305    |\n",
      "| train/             |          |\n",
      "|    actor_loss      | 27.2     |\n",
      "|    critic_loss     | 7.15     |\n",
      "|    learning_rate   | 0.001    |\n",
      "|    n_updates       | 10107    |\n",
      "---------------------------------\n"
     ]
    },
    {
     "name": "stdout",
     "output_type": "stream",
     "text": [
      "---------------------------------\n",
      "| rollout/           |          |\n",
      "|    ep_len_mean     | 95.1     |\n",
      "|    ep_rew_mean     | -95.1    |\n",
      "| time/              |          |\n",
      "|    episodes        | 112      |\n",
      "|    fps             | 97       |\n",
      "|    time_elapsed    | 7        |\n",
      "|    total_timesteps | 10701    |\n",
      "| train/             |          |\n",
      "|    actor_loss      | 27.6     |\n",
      "|    critic_loss     | 8.03     |\n",
      "|    learning_rate   | 0.001    |\n",
      "|    n_updates       | 10503    |\n",
      "---------------------------------\n"
     ]
    },
    {
     "name": "stdout",
     "output_type": "stream",
     "text": [
      "---------------------------------\n",
      "| rollout/           |          |\n",
      "|    ep_len_mean     | 95.2     |\n",
      "|    ep_rew_mean     | -95.1    |\n",
      "| time/              |          |\n",
      "|    episodes        | 116      |\n",
      "|    fps             | 88       |\n",
      "|    time_elapsed    | 11       |\n",
      "|    total_timesteps | 11003    |\n",
      "| train/             |          |\n",
      "|    actor_loss      | 27.9     |\n",
      "|    critic_loss     | 7.58     |\n",
      "|    learning_rate   | 0.001    |\n",
      "|    n_updates       | 10805    |\n",
      "---------------------------------\n"
     ]
    },
    {
     "name": "stdout",
     "output_type": "stream",
     "text": [
      "---------------------------------\n",
      "| rollout/           |          |\n",
      "|    ep_len_mean     | 95.2     |\n",
      "|    ep_rew_mean     | -95.1    |\n",
      "| time/              |          |\n",
      "|    episodes        | 120      |\n",
      "|    fps             | 82       |\n",
      "|    time_elapsed    | 16       |\n",
      "|    total_timesteps | 11399    |\n",
      "| train/             |          |\n",
      "|    actor_loss      | 28.3     |\n",
      "|    critic_loss     | 8.03     |\n",
      "|    learning_rate   | 0.001    |\n",
      "|    n_updates       | 11201    |\n",
      "---------------------------------\n"
     ]
    },
    {
     "name": "stdout",
     "output_type": "stream",
     "text": [
      "---------------------------------\n",
      "| rollout/           |          |\n",
      "|    ep_len_mean     | 95.2     |\n",
      "|    ep_rew_mean     | -95.1    |\n",
      "| time/              |          |\n",
      "|    episodes        | 124      |\n",
      "|    fps             | 86       |\n",
      "|    time_elapsed    | 20       |\n",
      "|    total_timesteps | 11795    |\n",
      "| train/             |          |\n",
      "|    actor_loss      | 28.8     |\n",
      "|    critic_loss     | 7.64     |\n",
      "|    learning_rate   | 0.001    |\n",
      "|    n_updates       | 11597    |\n",
      "---------------------------------\n"
     ]
    },
    {
     "name": "stdout",
     "output_type": "stream",
     "text": [
      "---------------------------------\n",
      "| rollout/           |          |\n",
      "|    ep_len_mean     | 95.2     |\n",
      "|    ep_rew_mean     | -95.1    |\n",
      "| time/              |          |\n",
      "|    episodes        | 128      |\n",
      "|    fps             | 81       |\n",
      "|    time_elapsed    | 26       |\n",
      "|    total_timesteps | 12191    |\n",
      "| train/             |          |\n",
      "|    actor_loss      | 29.2     |\n",
      "|    critic_loss     | 8.75     |\n",
      "|    learning_rate   | 0.001    |\n",
      "|    n_updates       | 11993    |\n",
      "---------------------------------\n"
     ]
    },
    {
     "name": "stdout",
     "output_type": "stream",
     "text": [
      "---------------------------------\n",
      "| rollout/           |          |\n",
      "|    ep_len_mean     | 95.2     |\n",
      "|    ep_rew_mean     | -95.1    |\n",
      "| time/              |          |\n",
      "|    episodes        | 132      |\n",
      "|    fps             | 84       |\n",
      "|    time_elapsed    | 30       |\n",
      "|    total_timesteps | 12587    |\n",
      "| train/             |          |\n",
      "|    actor_loss      | 29.6     |\n",
      "|    critic_loss     | 9.09     |\n",
      "|    learning_rate   | 0.001    |\n",
      "|    n_updates       | 12389    |\n",
      "---------------------------------\n"
     ]
    },
    {
     "name": "stdout",
     "output_type": "stream",
     "text": [
      "---------------------------------\n",
      "| rollout/           |          |\n",
      "|    ep_len_mean     | 95.2     |\n",
      "|    ep_rew_mean     | -95.1    |\n",
      "| time/              |          |\n",
      "|    episodes        | 136      |\n",
      "|    fps             | 83       |\n",
      "|    time_elapsed    | 35       |\n",
      "|    total_timesteps | 12983    |\n",
      "| train/             |          |\n",
      "|    actor_loss      | 30       |\n",
      "|    critic_loss     | 10.3     |\n",
      "|    learning_rate   | 0.001    |\n",
      "|    n_updates       | 12785    |\n",
      "---------------------------------\n"
     ]
    },
    {
     "name": "stdout",
     "output_type": "stream",
     "text": [
      "---------------------------------\n",
      "| rollout/           |          |\n",
      "|    ep_len_mean     | 94.2     |\n",
      "|    ep_rew_mean     | -94.2    |\n",
      "| time/              |          |\n",
      "|    episodes        | 140      |\n",
      "|    fps             | 80       |\n",
      "|    time_elapsed    | 40       |\n",
      "|    total_timesteps | 13283    |\n",
      "| train/             |          |\n",
      "|    actor_loss      | 30.4     |\n",
      "|    critic_loss     | 9.53     |\n",
      "|    learning_rate   | 0.001    |\n",
      "|    n_updates       | 13181    |\n",
      "---------------------------------\n"
     ]
    },
    {
     "name": "stdout",
     "output_type": "stream",
     "text": [
      "---------------------------------\n",
      "| rollout/           |          |\n",
      "|    ep_len_mean     | 92.6     |\n",
      "|    ep_rew_mean     | -92.5    |\n",
      "| time/              |          |\n",
      "|    episodes        | 144      |\n",
      "|    fps             | 82       |\n",
      "|    time_elapsed    | 42       |\n",
      "|    total_timesteps | 13519    |\n",
      "| train/             |          |\n",
      "|    actor_loss      | 30.6     |\n",
      "|    critic_loss     | 9.14     |\n",
      "|    learning_rate   | 0.001    |\n",
      "|    n_updates       | 13383    |\n",
      "---------------------------------\n"
     ]
    },
    {
     "name": "stdout",
     "output_type": "stream",
     "text": [
      "---------------------------------\n",
      "| rollout/           |          |\n",
      "|    ep_len_mean     | 91.6     |\n",
      "|    ep_rew_mean     | -91.5    |\n",
      "| time/              |          |\n",
      "|    episodes        | 148      |\n",
      "|    fps             | 82       |\n",
      "|    time_elapsed    | 45       |\n",
      "|    total_timesteps | 13817    |\n",
      "| train/             |          |\n",
      "|    actor_loss      | 30.9     |\n",
      "|    critic_loss     | 10.4     |\n",
      "|    learning_rate   | 0.001    |\n",
      "|    n_updates       | 13619    |\n",
      "---------------------------------\n"
     ]
    },
    {
     "name": "stdout",
     "output_type": "stream",
     "text": [
      "---------------------------------\n",
      "| rollout/           |          |\n",
      "|    ep_len_mean     | 91.6     |\n",
      "|    ep_rew_mean     | -91.5    |\n",
      "| time/              |          |\n",
      "|    episodes        | 152      |\n",
      "|    fps             | 79       |\n",
      "|    time_elapsed    | 51       |\n",
      "|    total_timesteps | 14119    |\n",
      "| train/             |          |\n",
      "|    actor_loss      | 31.3     |\n",
      "|    critic_loss     | 10.9     |\n",
      "|    learning_rate   | 0.001    |\n",
      "|    n_updates       | 14015    |\n",
      "---------------------------------\n"
     ]
    },
    {
     "name": "stdout",
     "output_type": "stream",
     "text": [
      "---------------------------------\n",
      "| rollout/           |          |\n",
      "|    ep_len_mean     | 93.6     |\n",
      "|    ep_rew_mean     | -93.5    |\n",
      "| time/              |          |\n",
      "|    episodes        | 156      |\n",
      "|    fps             | 83       |\n",
      "|    time_elapsed    | 54       |\n",
      "|    total_timesteps | 14515    |\n",
      "| train/             |          |\n",
      "|    actor_loss      | 31.5     |\n",
      "|    critic_loss     | 11.5     |\n",
      "|    learning_rate   | 0.001    |\n",
      "|    n_updates       | 14317    |\n",
      "---------------------------------\n"
     ]
    },
    {
     "name": "stdout",
     "output_type": "stream",
     "text": [
      "---------------------------------\n",
      "| rollout/           |          |\n",
      "|    ep_len_mean     | 92.6     |\n",
      "|    ep_rew_mean     | -92.6    |\n",
      "| time/              |          |\n",
      "|    episodes        | 160      |\n",
      "|    fps             | 82       |\n",
      "|    time_elapsed    | 58       |\n",
      "|    total_timesteps | 14817    |\n",
      "| train/             |          |\n",
      "|    actor_loss      | 31.9     |\n",
      "|    critic_loss     | 11.8     |\n",
      "|    learning_rate   | 0.001    |\n",
      "|    n_updates       | 14619    |\n",
      "---------------------------------\n"
     ]
    },
    {
     "name": "stdout",
     "output_type": "stream",
     "text": [
      "---------------------------------\n",
      "| rollout/           |          |\n",
      "|    ep_len_mean     | 91.7     |\n",
      "|    ep_rew_mean     | -91.7    |\n",
      "| time/              |          |\n",
      "|    episodes        | 164      |\n",
      "|    fps             | 81       |\n",
      "|    time_elapsed    | 63       |\n",
      "|    total_timesteps | 15122    |\n",
      "| train/             |          |\n",
      "|    actor_loss      | 32.2     |\n",
      "|    critic_loss     | 9.95     |\n",
      "|    learning_rate   | 0.001    |\n",
      "|    n_updates       | 14924    |\n",
      "---------------------------------\n"
     ]
    },
    {
     "name": "stdout",
     "output_type": "stream",
     "text": [
      "---------------------------------\n",
      "| rollout/           |          |\n",
      "|    ep_len_mean     | 90.7     |\n",
      "|    ep_rew_mean     | -90.6    |\n",
      "| time/              |          |\n",
      "|    episodes        | 168      |\n",
      "|    fps             | 82       |\n",
      "|    time_elapsed    | 65       |\n",
      "|    total_timesteps | 15413    |\n",
      "| train/             |          |\n",
      "|    actor_loss      | 32.4     |\n",
      "|    critic_loss     | 11       |\n",
      "|    learning_rate   | 0.001    |\n",
      "|    n_updates       | 15215    |\n",
      "---------------------------------\n"
     ]
    },
    {
     "name": "stdout",
     "output_type": "stream",
     "text": [
      "---------------------------------\n",
      "| rollout/           |          |\n",
      "|    ep_len_mean     | 90.7     |\n",
      "|    ep_rew_mean     | -90.6    |\n",
      "| time/              |          |\n",
      "|    episodes        | 172      |\n",
      "|    fps             | 81       |\n",
      "|    time_elapsed    | 71       |\n",
      "|    total_timesteps | 15809    |\n",
      "| train/             |          |\n",
      "|    actor_loss      | 32.5     |\n",
      "|    critic_loss     | 11.2     |\n",
      "|    learning_rate   | 0.001    |\n",
      "|    n_updates       | 15611    |\n",
      "---------------------------------\n"
     ]
    },
    {
     "name": "stdout",
     "output_type": "stream",
     "text": [
      "---------------------------------\n",
      "| rollout/           |          |\n",
      "|    ep_len_mean     | 90.7     |\n",
      "|    ep_rew_mean     | -90.6    |\n",
      "| time/              |          |\n",
      "|    episodes        | 176      |\n",
      "|    fps             | 81       |\n",
      "|    time_elapsed    | 75       |\n",
      "|    total_timesteps | 16205    |\n",
      "| train/             |          |\n",
      "|    actor_loss      | 32.7     |\n",
      "|    critic_loss     | 12.3     |\n",
      "|    learning_rate   | 0.001    |\n",
      "|    n_updates       | 16007    |\n",
      "---------------------------------\n"
     ]
    },
    {
     "name": "stdout",
     "output_type": "stream",
     "text": [
      "---------------------------------\n",
      "| rollout/           |          |\n",
      "|    ep_len_mean     | 90.7     |\n",
      "|    ep_rew_mean     | -90.6    |\n",
      "| time/              |          |\n",
      "|    episodes        | 180      |\n",
      "|    fps             | 81       |\n",
      "|    time_elapsed    | 80       |\n",
      "|    total_timesteps | 16601    |\n",
      "| train/             |          |\n",
      "|    actor_loss      | 32.9     |\n",
      "|    critic_loss     | 10.9     |\n",
      "|    learning_rate   | 0.001    |\n",
      "|    n_updates       | 16403    |\n",
      "---------------------------------\n"
     ]
    }
   ],
   "source": [
    "from stable_baselines3 import PPO, DDPG\n",
    "import os\n",
    "import time\n",
    "from pump_env import PumpEnv\n",
    "from pump_env_variable_load import PumpEnvVar\n",
    "from stable_baselines3.common.env_util import make_vec_env\n",
    "\n",
    "from custom_networks import CustomActorCriticPolicy\n",
    "\n",
    "# Create dirs\n",
    "models_dir = f\"models/{int(time.time())}\"\n",
    "logs_dir = f\"logs/{int(time.time())}\"\n",
    "\n",
    "if not os.path.exists(models_dir):\n",
    "    os.makedirs(models_dir)\n",
    "if not os.path.exists(logs_dir):\n",
    "    os.makedirs(logs_dir)\n",
    "\n",
    "# Environment\n",
    "env = PumpEnvVar(load_range=[0.0,2.0], goal_pressure_range=[1.1, 2.0])\n",
    "# env = make_vec_env(lambda: env, n_envs=4)  # Multi-process (This behaves like batchsize)\n",
    "# env = PumpEnvVar(var_L_range=[0.0,0.02], goal_pressure_range=[1, 10.0])  # Set goal pressure range\n",
    "# env = make_vec_env(lambda: env, n_envs=30)  # Multi-process (This behaves like batchsize)\n",
    "env.reset()\n",
    "\n",
    "\n",
    "\n",
    "# Model\n",
    "# model = PPO(CustomActorCriticPolicy, env, verbose=1, tensorboard_log=logs_dir)\n",
    "# model = PPO(\"MlpPolicy\", env, verbose=1, tensorboard_log=logs_dir)\n",
    "model = DDPG(\"MlpPolicy\", env, verbose=1, tensorboard_log=logs_dir)\n",
    "# model = DDPG(CustomTD3Policy, env, verbose=1, tensorboard_log=logs_dir)\n",
    "\n",
    "# Train and save every TIMESTEPS steps\n",
    "TIMESTEPS = 10000\n",
    "for i in range(1,int(1800000/TIMESTEPS)):\n",
    "    # Turn off \"reset_num_timesteps\" so that the learning won't stop\n",
    "    # model.learn(total_timesteps=TIMESTEPS, reset_num_timesteps=False, tb_log_name=\"PPO\", progress_bar=True)\n",
    "    model.learn(total_timesteps=TIMESTEPS, reset_num_timesteps=False, tb_log_name=\"DDPG Vanilla\", progress_bar=True)\n",
    "    \n",
    "    # Save the model every {TIMESTEPS} steps\n",
    "    model.save(f\"{models_dir}/{TIMESTEPS*i}\")\n",
    "env.close()\n",
    "\n",
    "\n",
    "# Note on tensorboard\n",
    "# Command line: tensorboard --logdir=logs\n",
    "# Then copy paste the link to your browser"
   ]
  }
 ],
 "metadata": {
  "kernelspec": {
   "display_name": "Pump_RL",
   "language": "python",
   "name": "pump_rl"
  },
  "language_info": {
   "codemirror_mode": {
    "name": "ipython",
    "version": 3
   },
   "file_extension": ".py",
   "mimetype": "text/x-python",
   "name": "python",
   "nbconvert_exporter": "python",
   "pygments_lexer": "ipython3",
   "version": "3.10.8"
  },
  "orig_nbformat": 4
 },
 "nbformat": 4,
 "nbformat_minor": 2
}
